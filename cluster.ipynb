{
 "cells": [
  {
   "cell_type": "code",
   "execution_count": 7,
   "metadata": {},
   "outputs": [],
   "source": [
    "import torch\n",
    "from torch.utils.data import Dataset\n",
    "import numpy as np"
   ]
  },
  {
   "cell_type": "code",
   "execution_count": 59,
   "metadata": {},
   "outputs": [],
   "source": [
    "class Monkey_Dataset(torch.utils.data.Dataset):\n",
    "    def __init__(self, root, num=30, iso=True, split=0.6, train=True):\n",
    "        super().__init__()\n",
    "        mode = 'iso' if iso else 'pca'\n",
    "#         self.datas = np.load(root + f'{mode}inputs_all.npy')\n",
    "#         self.labels = np.load(root + f'{mode}labels_all_index.npy')\n",
    "        datas = np.load(root + f'{mode}_random.npy')\n",
    "        split = int(0.6 * datas.shape[0])\n",
    "        self.datas = datas[:split ] if train else datas[split:]\n",
    "\n",
    "    def __len__(self):\n",
    "        \"\"\"\n",
    "            return: the number of sample(int type)\n",
    "        \"\"\"\n",
    "        return self.datas.shape[0]\n",
    "\n",
    "    def __getitem__(self, index):\n",
    "        \"\"\"\n",
    "        return: tensor [1, embedding] and LongTensor [1]\n",
    "        \"\"\"\n",
    "        _data = self.datas[index]\n",
    "        data, label = _data[:30], _data[30]\n",
    "        # crop\n",
    "        data = data[:num]\n",
    "        data = torch.tensor(data, dtype=torch.float32)\n",
    "        label = torch.LongTensor([int(label)])\n",
    "        return data, label"
   ]
  },
  {
   "cell_type": "code",
   "execution_count": 87,
   "metadata": {},
   "outputs": [],
   "source": [
    "weight_vector = np.ones((30), dtype=np.float32) * 0.01\n",
    "weight_vector[0] = 0.1\n",
    "weight_vector[1] = 0.03\n",
    "weight_vector[2] = 0.02\n",
    "weight_vector[3] = 0.02"
   ]
  },
  {
   "cell_type": "code",
   "execution_count": 83,
   "metadata": {},
   "outputs": [],
   "source": [
    "num = 5"
   ]
  },
  {
   "cell_type": "code",
   "execution_count": 84,
   "metadata": {},
   "outputs": [],
   "source": [
    "monkey = Monkey_Dataset('', num, iso=True, split=0.8, train=True)\n",
    "data, label = monkey.datas[:, :num], monkey.datas[:, 30]"
   ]
  },
  {
   "cell_type": "code",
   "execution_count": 85,
   "metadata": {},
   "outputs": [],
   "source": [
    "val_monkey = Monkey_Dataset('', num, iso=True, split=0.8, train=False)\n",
    "val_data, val_label = val_monkey.datas[:, :num], val_monkey.datas[:, 30]"
   ]
  },
  {
   "cell_type": "code",
   "execution_count": 86,
   "metadata": {},
   "outputs": [
    {
     "name": "stdout",
     "output_type": "stream",
     "text": [
      "0 : (107869, 5)\n",
      "1 : (108014, 5)\n",
      "2 : (107951, 5)\n",
      "3 : (36825, 5)\n"
     ]
    }
   ],
   "source": [
    "vs = [[], [], [], []]\n",
    "center = []\n",
    "for vector, value in zip(data, label):\n",
    "    vs[int(value)].append(vector)\n",
    "for i in range(len(vs)):\n",
    "    vs[i] = np.array(vs[i])\n",
    "    center.append(np.mean(vs[i], axis=0, keepdims=False))\n",
    "    print(f'{i} : {vs[i].shape}')\n",
    "center = np.array(center)"
   ]
  },
  {
   "cell_type": "code",
   "execution_count": 89,
   "metadata": {},
   "outputs": [
    {
     "data": {
      "text/plain": [
       "0.24059224754616537"
      ]
     },
     "execution_count": 89,
     "metadata": {},
     "output_type": "execute_result"
    }
   ],
   "source": [
    "acc = 0\n",
    "for vector, value in zip(val_data, val_label):\n",
    "    distance = np.sum(np.power(vector - center, 2) * weight_vector[:num], axis=1, keepdims=False)\n",
    "    pred = np.argmin(distance)\n",
    "    acc += 1 if pred == int(value) else 0\n",
    "acc / val_label.size"
   ]
  },
  {
   "cell_type": "code",
   "execution_count": 93,
   "metadata": {},
   "outputs": [
    {
     "name": "stdout",
     "output_type": "stream",
     "text": [
      "1: 0.1942896356679421\n",
      "2: 0.19892696722675096\n",
      "3: 0.2410414240558975\n",
      "4: 0.23960655464980868\n",
      "5: 0.24059224754616537\n",
      "6: 0.24147812344035935\n",
      "7: 0.24151555481617035\n",
      "8: 0.2419855265346864\n",
      "9: 0.24149891864914325\n",
      "10: 0.24146148727333222\n",
      "11: 0.23901597072034603\n",
      "12: 0.23996007319913493\n",
      "13: 0.24065879221427383\n",
      "14: 0.24040093162535353\n",
      "15: 0.2404633172517052\n",
      "16: 0.24071285975711196\n",
      "17: 0.24082931292630178\n",
      "18: 0.2412077857261687\n",
      "19: 0.24307519547496256\n",
      "20: 0.24482615205456662\n",
      "21: 0.245271169522542\n",
      "22: 0.24540009981700217\n",
      "23: 0.24586175345200464\n",
      "24: 0.2454292131092996\n",
      "25: 0.24609881883214108\n",
      "26: 0.24496340043254033\n",
      "27: 0.2452545333555149\n",
      "28: 0.24559557477957078\n",
      "29: 0.24583679920146398\n"
     ]
    }
   ],
   "source": [
    "for num in range(1, 30, 1):\n",
    "    monkey = Monkey_Dataset('', num, iso=True, split=0.8, train=True)\n",
    "    data, label = monkey.datas[:, :num], monkey.datas[:, 30]\n",
    "    val_monkey = Monkey_Dataset('', num, iso=True, split=0.8, train=False)\n",
    "    val_data, val_label = val_monkey.datas[:, :num], val_monkey.datas[:, 30]\n",
    "    vs = [[], [], [], []]\n",
    "    center = []\n",
    "    for vector, value in zip(data, label):\n",
    "        vs[int(value)].append(vector)\n",
    "    for i in range(len(vs)):\n",
    "        vs[i] = np.array(vs[i])\n",
    "        center.append(np.mean(vs[i], axis=0, keepdims=False))\n",
    "#         print(f'{i} : {vs[i].shape}')\n",
    "    center = np.array(center)\n",
    "    acc = 0\n",
    "    for vector, value in zip(val_data, val_label):\n",
    "        distance = np.sum(np.power(vector - center, 2) * weight_vector[:num], axis=1, keepdims=False)\n",
    "        pred = np.argmin(distance)\n",
    "        acc += 1 if pred == int(value) else 0\n",
    "    print(f\"{num}: {acc / val_label.size}\")"
   ]
  },
  {
   "cell_type": "code",
   "execution_count": 94,
   "metadata": {},
   "outputs": [
    {
     "name": "stdout",
     "output_type": "stream",
     "text": [
      "1: 0.1942896356679421\n",
      "2: 0.20966561304275494\n",
      "3: 0.25964897687572785\n",
      "4: 0.25563550158043585\n",
      "5: 0.2596947263350524\n",
      "6: 0.2599733821327566\n",
      "7: 0.25760272833139247\n",
      "8: 0.26177008817168523\n",
      "9: 0.2592455498253202\n",
      "10: 0.252524538346365\n",
      "11: 0.23798452836466477\n",
      "12: 0.24171102977873898\n",
      "13: 0.24540425885875894\n",
      "14: 0.24418565962402264\n",
      "15: 0.24580352686740975\n",
      "16: 0.24772916320079855\n",
      "17: 0.24940525702878058\n",
      "18: 0.25050740309432706\n",
      "19: 0.25389702212610216\n",
      "20: 0.25872566960572285\n",
      "21: 0.25758609216436534\n",
      "22: 0.25732823157544504\n",
      "23: 0.257685909166528\n",
      "24: 0.25848028614207286\n",
      "25: 0.2587131924804525\n",
      "26: 0.25341457328231576\n",
      "27: 0.25332307436366663\n",
      "28: 0.25249126601231076\n",
      "29: 0.2530652137747463\n"
     ]
    }
   ],
   "source": [
    "for num in range(1, 30, 1):\n",
    "    monkey = Monkey_Dataset('', num, iso=True, split=0.8, train=True)\n",
    "    data, label = monkey.datas[:, :num], monkey.datas[:, 30]\n",
    "    val_monkey = Monkey_Dataset('', num, iso=True, split=0.8, train=False)\n",
    "    val_data, val_label = val_monkey.datas[:, :num], val_monkey.datas[:, 30]\n",
    "    vs = [[], [], [], []]\n",
    "    center = []\n",
    "    for vector, value in zip(data, label):\n",
    "        vs[int(value)].append(vector)\n",
    "    for i in range(len(vs)):\n",
    "        vs[i] = np.array(vs[i])\n",
    "        center.append(np.mean(vs[i], axis=0, keepdims=False))\n",
    "#         print(f'{i} : {vs[i].shape}')\n",
    "    center = np.array(center)\n",
    "    acc = 0\n",
    "    for vector, value in zip(val_data, val_label):\n",
    "        distance = np.sum(np.power(vector - center, 2), axis=1, keepdims=False)\n",
    "        pred = np.argmin(distance)\n",
    "        acc += 1 if pred == int(value) else 0\n",
    "    print(f\"{num}: {acc / val_label.size}\")"
   ]
  },
  {
   "cell_type": "code",
   "execution_count": 95,
   "metadata": {},
   "outputs": [
    {
     "name": "stdout",
     "output_type": "stream",
     "text": [
      "1: 0.2994967559474297\n",
      "2: 0.2994967559474297\n",
      "3: 0.2994967559474297\n",
      "4: 0.2994967559474297\n",
      "5: 0.2991557145233738\n",
      "6: 0.2994967559474297\n",
      "7: 0.2994967559474297\n",
      "8: 0.2994967559474297\n",
      "9: 0.2994967559474297\n",
      "10: 0.2994967559474297\n",
      "11: 0.2994967559474297\n",
      "12: 0.2994967559474297\n",
      "13: 0.2991557145233738\n",
      "14: 0.2991557145233738\n",
      "15: 0.2991557145233738\n",
      "16: 0.2991557145233738\n",
      "17: 0.2991557145233738\n",
      "18: 0.2991557145233738\n",
      "19: 0.2991557145233738\n",
      "20: 0.2991557145233738\n",
      "21: 0.2991557145233738\n",
      "22: 0.10245383463649975\n",
      "23: 0.10245383463649975\n",
      "24: 0.10245383463649975\n",
      "25: 0.29889369489269674\n",
      "26: 0.10245383463649975\n",
      "27: 0.10245383463649975\n",
      "28: 0.10245383463649975\n",
      "29: 0.10245383463649975\n"
     ]
    }
   ],
   "source": [
    "for num in range(1, 30, 1):\n",
    "    monkey = Monkey_Dataset('', num, iso=True, split=0.8, train=True)\n",
    "    data, label = monkey.datas[:, :num], monkey.datas[:, 30]\n",
    "    val_monkey = Monkey_Dataset('', num, iso=True, split=0.8, train=False)\n",
    "    val_data, val_label = val_monkey.datas[:, :num], val_monkey.datas[:, 30]\n",
    "    vs = [[], [], [], []]\n",
    "    center = []\n",
    "    for vector, value in zip(data, label):\n",
    "        vs[int(value)].append(vector)\n",
    "    for i in range(len(vs)):\n",
    "        vs[i] = np.array(vs[i])\n",
    "        center.append(np.mean(vs[i], axis=0, keepdims=False))\n",
    "#         print(f'{i} : {vs[i].shape}')\n",
    "    center = np.array(center)\n",
    "    acc = 0\n",
    "    for vector, value in zip(val_data, val_label):\n",
    "        distance = np.sum((vector - center), axis=1, keepdims=False)\n",
    "        pred = np.argmin(distance)\n",
    "        acc += 1 if pred == int(value) else 0\n",
    "    print(f\"{num}: {acc / val_label.size}\")"
   ]
  },
  {
   "cell_type": "code",
   "execution_count": 96,
   "metadata": {},
   "outputs": [
    {
     "name": "stdout",
     "output_type": "stream",
     "text": [
      "1: 0.1942896356679421\n",
      "2: 0.19426052237564465\n",
      "3: 0.24832806521377473\n",
      "4: 0.25002911329229743\n",
      "5: 0.24514223922808184\n",
      "6: 0.25670437531192813\n",
      "7: 0.26179088338046913\n",
      "8: 0.26171602062884713\n",
      "9: 0.2574114124105806\n",
      "10: 0.2558060222924638\n",
      "11: 0.23281068041923142\n",
      "12: 0.23674929296290134\n",
      "13: 0.24221843287306605\n",
      "14: 0.2413450341041424\n",
      "15: 0.24294210613874564\n",
      "16: 0.2462568624188987\n",
      "17: 0.2503410414240559\n",
      "18: 0.25223340542339046\n",
      "19: 0.25581849941773416\n",
      "20: 0.2602312427216769\n",
      "21: 0.2587298286474796\n",
      "22: 0.2603019464315422\n",
      "23: 0.25966977208451175\n",
      "24: 0.26020628847113625\n",
      "25: 0.2579895192147729\n",
      "26: 0.2543129263017801\n",
      "27: 0.2537722508733988\n",
      "28: 0.2528780568956912\n",
      "29: 0.25509898519381136\n"
     ]
    }
   ],
   "source": [
    "for num in range(1, 30, 1):\n",
    "    monkey = Monkey_Dataset('', num, iso=True, split=0.8, train=True)\n",
    "    data, label = monkey.datas[:, :num], monkey.datas[:, 30]\n",
    "    val_monkey = Monkey_Dataset('', num, iso=True, split=0.8, train=False)\n",
    "    val_data, val_label = val_monkey.datas[:, :num], val_monkey.datas[:, 30]\n",
    "    vs = [[], [], [], []]\n",
    "    center = []\n",
    "    for vector, value in zip(data, label):\n",
    "        vs[int(value)].append(vector)\n",
    "    for i in range(len(vs)):\n",
    "        vs[i] = np.array(vs[i])\n",
    "        center.append(np.mean(vs[i], axis=0, keepdims=False))\n",
    "#         print(f'{i} : {vs[i].shape}')\n",
    "    center = np.array(center)\n",
    "    acc = 0\n",
    "    for vector, value in zip(val_data, val_label):\n",
    "        distance = np.sum(np.abs(vector - center), axis=1, keepdims=False)\n",
    "        pred = np.argmin(distance)\n",
    "        acc += 1 if pred == int(value) else 0\n",
    "    print(f\"{num}: {acc / val_label.size}\")"
   ]
  },
  {
   "cell_type": "code",
   "execution_count": 97,
   "metadata": {},
   "outputs": [
    {
     "name": "stdout",
     "output_type": "stream",
     "text": [
      "1: 0.1942896356679421\n",
      "2: 0.19429379470969887\n",
      "3: 0.24746298452836465\n",
      "4: 0.21765513225752786\n",
      "5: 0.2304109133255698\n",
      "6: 0.2298286474796207\n",
      "7: 0.22980369322908\n",
      "8: 0.2297828980202961\n",
      "9: 0.2341124604891033\n",
      "10: 0.23664531691898186\n",
      "11: 0.23738562635168858\n",
      "12: 0.23807602728331392\n",
      "13: 0.23787639327898852\n",
      "14: 0.2372400598902013\n",
      "15: 0.23784727998669106\n",
      "16: 0.2380635501580436\n",
      "17: 0.23827566128763933\n",
      "18: 0.23809682249209782\n",
      "19: 0.23812177674263849\n",
      "20: 0.23822991182831477\n",
      "21: 0.23849193145899183\n",
      "22: 0.2392031275994011\n",
      "23: 0.23931542172683415\n",
      "24: 0.23986857428048577\n",
      "25: 0.23947762435534853\n",
      "26: 0.24058808850440858\n",
      "27: 0.2407461320911662\n",
      "28: 0.24107053734819497\n",
      "29: 0.24170271169522542\n"
     ]
    }
   ],
   "source": [
    "for num in range(1, 30, 1):\n",
    "    monkey = Monkey_Dataset('', num, iso=True, split=0.8, train=True)\n",
    "    data, label = monkey.datas[:, :num], monkey.datas[:, 30]\n",
    "    val_monkey = Monkey_Dataset('', num, iso=True, split=0.8, train=False)\n",
    "    val_data, val_label = val_monkey.datas[:, :num], val_monkey.datas[:, 30]\n",
    "    vs = [[], [], [], []]\n",
    "    center = []\n",
    "    for vector, value in zip(data, label):\n",
    "        vs[int(value)].append(vector)\n",
    "    for i in range(len(vs)):\n",
    "        vs[i] = np.array(vs[i])\n",
    "        center.append(np.mean(vs[i], axis=0, keepdims=False))\n",
    "#         print(f'{i} : {vs[i].shape}')\n",
    "    center = np.array(center)\n",
    "    acc = 0\n",
    "    for vector, value in zip(val_data, val_label):\n",
    "        distance = np.sum(np.abs(vector - center) * weight_vector[:num], axis=1, keepdims=False)\n",
    "        pred = np.argmin(distance)\n",
    "        acc += 1 if pred == int(value) else 0\n",
    "    print(f\"{num}: {acc / val_label.size}\")"
   ]
  },
  {
   "cell_type": "code",
   "execution_count": null,
   "metadata": {},
   "outputs": [],
   "source": []
  }
 ],
 "metadata": {
  "kernelspec": {
   "display_name": "Python 3",
   "language": "python",
   "name": "python3"
  },
  "language_info": {
   "codemirror_mode": {
    "name": "ipython",
    "version": 3
   },
   "file_extension": ".py",
   "mimetype": "text/x-python",
   "name": "python",
   "nbconvert_exporter": "python",
   "pygments_lexer": "ipython3",
   "version": "3.6.5"
  }
 },
 "nbformat": 4,
 "nbformat_minor": 2
}
